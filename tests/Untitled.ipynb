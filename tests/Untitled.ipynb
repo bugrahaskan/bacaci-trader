{
 "cells": [
  {
   "cell_type": "code",
   "execution_count": 1,
   "id": "18d13f30",
   "metadata": {},
   "outputs": [],
   "source": [
    "from binance.client import Client"
   ]
  },
  {
   "cell_type": "code",
   "execution_count": 2,
   "id": "8641f14f",
   "metadata": {},
   "outputs": [],
   "source": [
    "client = Client(\n",
    "            api_key=\"ArL65QfWYGxRx0oAfdIQ0lTIKJPijV4XeBElq3J7eCQoQ8CMok64kFBH94GOFqd6\",\n",
    "            api_secret=\"NVerHlpYZikb6YNjsnDfzN2Jb9gWfLaP8LHl37YODdqbghIWkFYg8slnyIM5wHQO\"\n",
    "        )"
   ]
  },
  {
   "cell_type": "code",
   "execution_count": 10,
   "id": "7e3ea663",
   "metadata": {},
   "outputs": [
    {
     "data": {
      "text/plain": [
       "{'orderId': 8389765620177159559,\n",
       " 'symbol': 'ETHUSDT',\n",
       " 'status': 'NEW',\n",
       " 'clientOrderId': 'ORHdmbU2MTUPiecARwkjBK',\n",
       " 'price': '0.00',\n",
       " 'avgPrice': '0.00',\n",
       " 'origQty': '0.015',\n",
       " 'executedQty': '0.000',\n",
       " 'cumQty': '0.000',\n",
       " 'cumQuote': '0.00000',\n",
       " 'timeInForce': 'GTC',\n",
       " 'type': 'MARKET',\n",
       " 'reduceOnly': False,\n",
       " 'closePosition': False,\n",
       " 'side': 'BUY',\n",
       " 'positionSide': 'BOTH',\n",
       " 'stopPrice': '0.00',\n",
       " 'workingType': 'CONTRACT_PRICE',\n",
       " 'priceProtect': False,\n",
       " 'origType': 'MARKET',\n",
       " 'priceMatch': 'NONE',\n",
       " 'selfTradePreventionMode': 'NONE',\n",
       " 'goodTillDate': 0,\n",
       " 'updateTime': 1696574941608}"
      ]
     },
     "execution_count": 10,
     "metadata": {},
     "output_type": "execute_result"
    }
   ],
   "source": [
    "client.futures_create_order(\n",
    "                symbol=\"ETHUSDT\",\n",
    "                isIsolated=True,\n",
    "                side=\"BUY\",\n",
    "                type=Client.ORDER_TYPE_MARKET,\n",
    "                leverage=30,\n",
    "                quantity=0.015\n",
    "            )"
   ]
  },
  {
   "cell_type": "code",
   "execution_count": 14,
   "id": "65ba1f0d",
   "metadata": {},
   "outputs": [
    {
     "data": {
      "text/plain": [
       "0.6119951040391677"
      ]
     },
     "execution_count": 14,
     "metadata": {},
     "output_type": "execute_result"
    }
   ],
   "source": [
    "100 * 10 / 1634"
   ]
  },
  {
   "cell_type": "code",
   "execution_count": 15,
   "id": "d5002d36",
   "metadata": {},
   "outputs": [],
   "source": [
    "def to_timestamp(dt, date_format='%Y-%m-%d %H:%M:%S'):\n",
    "    \"\"\"Converts a datetime object to an integer timestamp.\"\"\"\n",
    "    from datetime import datetime\n",
    "        \n",
    "    dt = datetime.strptime(dt, date_format)\n",
    "        \n",
    "    return int(dt.timestamp())"
   ]
  },
  {
   "cell_type": "code",
   "execution_count": 18,
   "id": "b390f0d8",
   "metadata": {},
   "outputs": [
    {
     "data": {
      "text/plain": [
       "-480"
      ]
     },
     "execution_count": 18,
     "metadata": {},
     "output_type": "execute_result"
    }
   ],
   "source": [
    "to_timestamp(\"2023-09-29 23:17:00\") - to_timestamp(\"2023-09-29 23:25:00\")"
   ]
  },
  {
   "cell_type": "code",
   "execution_count": 1,
   "id": "ebe1a862",
   "metadata": {},
   "outputs": [],
   "source": [
    "def to_datetime(ts):\n",
    "        \"\"\"Converts a timestamp object to datetime.\"\"\"\n",
    "        from datetime import datetime\n",
    "        \n",
    "        if isinstance(ts, str):\n",
    "            ts = int(ts)\n",
    "        \n",
    "        return datetime.fromtimestamp(ts)"
   ]
  },
  {
   "cell_type": "code",
   "execution_count": 2,
   "id": "9ffc27dc",
   "metadata": {},
   "outputs": [
    {
     "data": {
      "text/plain": [
       "datetime.datetime(2023, 10, 11, 3, 55)"
      ]
     },
     "execution_count": 2,
     "metadata": {},
     "output_type": "execute_result"
    }
   ],
   "source": [
    "to_datetime(1696985700)"
   ]
  },
  {
   "cell_type": "code",
   "execution_count": 27,
   "id": "126dfa46",
   "metadata": {},
   "outputs": [],
   "source": [
    "from datetime import datetime, timedelta\n",
    "\n",
    "dt = (datetime.strptime(\"2023-09-29 23:25:00\", '%Y-%m-%d %H:%M:%S') - datetime.strptime(\"2023-09-29 23:17:00\", '%Y-%m-%d %H:%M:%S')).total_seconds() / 60"
   ]
  },
  {
   "cell_type": "code",
   "execution_count": 32,
   "id": "38d8cb8a",
   "metadata": {},
   "outputs": [
    {
     "data": {
      "text/plain": [
       "'8min'"
      ]
     },
     "execution_count": 32,
     "metadata": {},
     "output_type": "execute_result"
    }
   ],
   "source": [
    "str(int(dt))+'min'"
   ]
  },
  {
   "cell_type": "code",
   "execution_count": 39,
   "id": "f0b15e5e",
   "metadata": {},
   "outputs": [],
   "source": [
    "data = {'Name': ['Alice', 'Bob', 'Charlie'],\n",
    "        'Age': [25, 30, 35]}"
   ]
  },
  {
   "cell_type": "code",
   "execution_count": 40,
   "id": "32bb9b29",
   "metadata": {},
   "outputs": [],
   "source": [
    "import pandas as pd\n",
    "\n",
    "df = pd.DataFrame(data)"
   ]
  },
  {
   "cell_type": "code",
   "execution_count": 44,
   "id": "299ae55c",
   "metadata": {},
   "outputs": [
    {
     "data": {
      "text/plain": [
       "[25, 30, 35]"
      ]
     },
     "execution_count": 44,
     "metadata": {},
     "output_type": "execute_result"
    }
   ],
   "source": [
    "df['Age'].to_list()"
   ]
  },
  {
   "cell_type": "code",
   "execution_count": 22,
   "id": "4167594b",
   "metadata": {},
   "outputs": [
    {
     "data": {
      "text/plain": [
       "'Bob'"
      ]
     },
     "execution_count": 22,
     "metadata": {},
     "output_type": "execute_result"
    }
   ],
   "source": [
    "df.iloc[1,0]"
   ]
  },
  {
   "cell_type": "code",
   "execution_count": 21,
   "id": "5f75e59e",
   "metadata": {},
   "outputs": [
    {
     "data": {
      "text/plain": [
       "numpy.int64"
      ]
     },
     "execution_count": 21,
     "metadata": {},
     "output_type": "execute_result"
    }
   ],
   "source": [
    "type(df['Age'].iloc[0])"
   ]
  },
  {
   "cell_type": "code",
   "execution_count": 25,
   "id": "fde48fa4",
   "metadata": {},
   "outputs": [
    {
     "name": "stdout",
     "output_type": "stream",
     "text": [
      "Alice\n",
      "Bob\n",
      "Charlie\n"
     ]
    }
   ],
   "source": [
    "for i, row in df.iterrows():\n",
    "    print(row.iloc[0])"
   ]
  },
  {
   "cell_type": "code",
   "execution_count": 48,
   "id": "01b80c7c",
   "metadata": {},
   "outputs": [
    {
     "data": {
      "text/html": [
       "<div>\n",
       "<style scoped>\n",
       "    .dataframe tbody tr th:only-of-type {\n",
       "        vertical-align: middle;\n",
       "    }\n",
       "\n",
       "    .dataframe tbody tr th {\n",
       "        vertical-align: top;\n",
       "    }\n",
       "\n",
       "    .dataframe thead th {\n",
       "        text-align: right;\n",
       "    }\n",
       "</style>\n",
       "<table border=\"1\" class=\"dataframe\">\n",
       "  <thead>\n",
       "    <tr style=\"text-align: right;\">\n",
       "      <th></th>\n",
       "      <th>Name</th>\n",
       "      <th>Age</th>\n",
       "    </tr>\n",
       "  </thead>\n",
       "  <tbody>\n",
       "    <tr>\n",
       "      <th>1</th>\n",
       "      <td>Bob</td>\n",
       "      <td>30</td>\n",
       "    </tr>\n",
       "  </tbody>\n",
       "</table>\n",
       "</div>"
      ],
      "text/plain": [
       "  Name  Age\n",
       "1  Bob   30"
      ]
     },
     "execution_count": 48,
     "metadata": {},
     "output_type": "execute_result"
    }
   ],
   "source": [
    "df[1:-1]"
   ]
  },
  {
   "cell_type": "code",
   "execution_count": null,
   "id": "5ea96a07",
   "metadata": {},
   "outputs": [],
   "source": []
  },
  {
   "cell_type": "code",
   "execution_count": 34,
   "id": "c73da5c1",
   "metadata": {},
   "outputs": [
    {
     "name": "stdout",
     "output_type": "stream",
     "text": [
      "Price spread for ETHUSDT: -0.009999999999990905\n"
     ]
    }
   ],
   "source": [
    "from binance.client import Client\n",
    "\n",
    "# Initialize the Binance API client\n",
    "api_key = 'ArL65QfWYGxRx0oAfdIQ0lTIKJPijV4XeBElq3J7eCQoQ8CMok64kFBH94GOFqd6'\n",
    "api_secret = 'NVerHlpYZikb6YNjsnDfzN2Jb9gWfLaP8LHl37YODdqbghIWkFYg8slnyIM5wHQO'\n",
    "client = Client(api_key, api_secret)\n",
    "\n",
    "# Specify the trading pair you're interested in (e.g., BTCUSDT)\n",
    "symbol = \"ETHUSDT\"\n",
    "\n",
    "# Get the order book depth for the trading pair\n",
    "depth = client.get_order_book(symbol=symbol)\n",
    "\n",
    "# Calculate the price spread\n",
    "bid_prices = [float(item[0]) for item in depth['bids']]\n",
    "ask_prices = [float(item[0]) for item in depth['asks']]\n",
    "spread = max(bid_prices) - min(ask_prices)\n",
    "\n",
    "print(f\"Price spread for {symbol}: {spread}\")"
   ]
  },
  {
   "cell_type": "code",
   "execution_count": 36,
   "id": "95c877eb",
   "metadata": {},
   "outputs": [
    {
     "name": "stdout",
     "output_type": "stream",
     "text": [
      "{'lastUpdateId': 26848150873, 'bids': [['1562.75000000', '171.80960000'], ['1562.74000000', '5.11900000'], ['1562.73000000', '5.13840000'], ['1562.72000000', '5.11900000'], ['1562.71000000', '4.01170000'], ['1562.70000000', '10.40300000'], ['1562.69000000', '0.07220000'], ['1562.68000000', '4.73300000'], ['1562.67000000', '0.28510000'], ['1562.65000000', '5.00390000'], ['1562.64000000', '0.64040000'], ['1562.63000000', '0.01160000'], ['1562.61000000', '1.26980000'], ['1562.60000000', '20.19670000'], ['1562.59000000', '0.00990000'], ['1562.58000000', '2.51460000'], ['1562.57000000', '0.27690000'], ['1562.55000000', '1.00390000'], ['1562.54000000', '0.00320000'], ['1562.53000000', '0.10250000'], ['1562.51000000', '0.64800000'], ['1562.50000000', '1.00000000'], ['1562.49000000', '0.00390000'], ['1562.48000000', '1.07360000'], ['1562.47000000', '12.53280000'], ['1562.46000000', '0.22740000'], ['1562.45000000', '4.04070000'], ['1562.44000000', '19.19550000'], ['1562.43000000', '3.21470000'], ['1562.41000000', '15.51770000'], ['1562.40000000', '22.13090000'], ['1562.39000000', '0.00390000'], ['1562.38000000', '0.00770000'], ['1562.37000000', '1.21610000'], ['1562.36000000', '1.50300000'], ['1562.35000000', '1.92000000'], ['1562.34000000', '2.29160000'], ['1562.33000000', '0.01100000'], ['1562.32000000', '19.62340000'], ['1562.31000000', '32.70550000'], ['1562.30000000', '5.57450000'], ['1562.29000000', '0.97780000'], ['1562.28000000', '3.61000000'], ['1562.27000000', '9.60950000'], ['1562.26000000', '11.66670000'], ['1562.25000000', '10.72970000'], ['1562.24000000', '1.62820000'], ['1562.23000000', '1.28720000'], ['1562.22000000', '1.68830000'], ['1562.21000000', '14.63500000'], ['1562.20000000', '12.58170000'], ['1562.19000000', '4.63600000'], ['1562.18000000', '0.47770000'], ['1562.15000000', '0.02390000'], ['1562.14000000', '3.47200000'], ['1562.13000000', '4.64770000'], ['1562.12000000', '7.73330000'], ['1562.11000000', '0.03190000'], ['1562.10000000', '1.87100000'], ['1562.08000000', '0.00770000'], ['1562.07000000', '0.69360000'], ['1562.06000000', '0.81230000'], ['1562.05000000', '0.00330000'], ['1562.04000000', '0.97540000'], ['1562.03000000', '7.37080000'], ['1562.01000000', '0.00650000'], ['1562.00000000', '11.52100000'], ['1561.99000000', '1.14800000'], ['1561.98000000', '0.52630000'], ['1561.96000000', '6.60250000'], ['1561.95000000', '6.40170000'], ['1561.94000000', '1.19190000'], ['1561.93000000', '1.91060000'], ['1561.91000000', '2.97050000'], ['1561.90000000', '0.00610000'], ['1561.89000000', '2.25660000'], ['1561.88000000', '8.02670000'], ['1561.86000000', '10.64150000'], ['1561.85000000', '13.93370000'], ['1561.84000000', '0.07210000'], ['1561.83000000', '0.00770000'], ['1561.80000000', '11.52480000'], ['1561.79000000', '6.37790000'], ['1561.78000000', '0.47210000'], ['1561.77000000', '0.84600000'], ['1561.76000000', '0.07610000'], ['1561.74000000', '0.48600000'], ['1561.73000000', '19.22310000'], ['1561.72000000', '32.02540000'], ['1561.70000000', '0.10240000'], ['1561.69000000', '12.46610000'], ['1561.68000000', '4.80770000'], ['1561.65000000', '0.30080000'], ['1561.63000000', '8.45340000'], ['1561.62000000', '0.01600000'], ['1561.61000000', '3.47500000'], ['1561.60000000', '13.88110000'], ['1561.59000000', '1.87100000'], ['1561.58000000', '2.80380000'], ['1561.57000000', '5.81440000']], 'asks': [['1562.76000000', '6.48490000'], ['1562.77000000', '9.47510000'], ['1562.79000000', '0.10770000'], ['1562.81000000', '0.00780000'], ['1562.83000000', '2.42020000'], ['1562.84000000', '4.00000000'], ['1562.85000000', '0.00780000'], ['1562.87000000', '0.00780000'], ['1562.88000000', '0.00770000'], ['1562.89000000', '5.40480000'], ['1562.90000000', '4.00000000'], ['1562.91000000', '0.00780000'], ['1562.92000000', '8.97270000'], ['1562.93000000', '0.01940000'], ['1562.94000000', '0.48040000'], ['1562.95000000', '0.02730000'], ['1562.97000000', '12.60650000'], ['1562.98000000', '20.85520000'], ['1562.99000000', '0.01170000'], ['1563.00000000', '0.20510000'], ['1563.01000000', '0.01910000'], ['1563.02000000', '0.06520000'], ['1563.03000000', '0.41940000'], ['1563.05000000', '0.01170000'], ['1563.07000000', '9.61110000'], ['1563.08000000', '0.01250000'], ['1563.09000000', '0.01170000'], ['1563.11000000', '0.01170000'], ['1563.12000000', '0.00480000'], ['1563.13000000', '0.10390000'], ['1563.15000000', '0.58590000'], ['1563.16000000', '4.50240000'], ['1563.17000000', '2.41040000'], ['1563.18000000', '4.82370000'], ['1563.19000000', '2.96000000'], ['1563.20000000', '5.66690000'], ['1563.21000000', '1.00390000'], ['1563.22000000', '0.80300000'], ['1563.23000000', '0.00770000'], ['1563.24000000', '0.00320000'], ['1563.25000000', '9.19940000'], ['1563.26000000', '5.44060000'], ['1563.27000000', '0.65020000'], ['1563.28000000', '11.82340000'], ['1563.29000000', '12.68370000'], ['1563.30000000', '3.42210000'], ['1563.31000000', '4.98960000'], ['1563.32000000', '10.60950000'], ['1563.33000000', '66.10640000'], ['1563.34000000', '0.03190000'], ['1563.35000000', '111.43740000'], ['1563.37000000', '6.28080000'], ['1563.38000000', '1.14180000'], ['1563.39000000', '1.03000000'], ['1563.40000000', '1.60970000'], ['1563.41000000', '2.91080000'], ['1563.42000000', '2.19310000'], ['1563.43000000', '3.03140000'], ['1563.44000000', '4.00000000'], ['1563.45000000', '0.44150000'], ['1563.46000000', '3.07310000'], ['1563.47000000', '1.56340000'], ['1563.48000000', '0.00560000'], ['1563.49000000', '8.08800000'], ['1563.50000000', '11.75560000'], ['1563.51000000', '3.27930000'], ['1563.52000000', '5.47710000'], ['1563.53000000', '3.67770000'], ['1563.54000000', '1.33370000'], ['1563.57000000', '2.12690000'], ['1563.59000000', '4.82250000'], ['1563.60000000', '17.76950000'], ['1563.61000000', '19.96810000'], ['1563.62000000', '2.31730000'], ['1563.63000000', '0.01330000'], ['1563.64000000', '0.19430000'], ['1563.65000000', '0.00730000'], ['1563.66000000', '0.00320000'], ['1563.69000000', '14.85540000'], ['1563.70000000', '2.30880000'], ['1563.71000000', '26.26960000'], ['1563.72000000', '13.50920000'], ['1563.73000000', '0.64390000'], ['1563.75000000', '1.20210000'], ['1563.76000000', '10.13240000'], ['1563.77000000', '2.46560000'], ['1563.78000000', '1.88630000'], ['1563.79000000', '0.29950000'], ['1563.80000000', '0.38650000'], ['1563.83000000', '1.94690000'], ['1563.84000000', '0.07870000'], ['1563.85000000', '0.01600000'], ['1563.87000000', '0.00580000'], ['1563.88000000', '0.11820000'], ['1563.89000000', '7.52360000'], ['1563.90000000', '7.20670000'], ['1563.93000000', '0.06750000'], ['1563.94000000', '4.21270000'], ['1563.95000000', '0.08510000'], ['1563.96000000', '95.34320000']]}\n"
     ]
    }
   ],
   "source": [
    "print(depth)"
   ]
  },
  {
   "cell_type": "code",
   "execution_count": 28,
   "id": "4edeaac8",
   "metadata": {},
   "outputs": [],
   "source": [
    "t = 1697009100"
   ]
  },
  {
   "cell_type": "code",
   "execution_count": 29,
   "id": "e7b50468",
   "metadata": {},
   "outputs": [],
   "source": [
    "def to_datetime(ts):\n",
    "        \"\"\"Converts a timestamp object to datetime.\"\"\"\n",
    "        from datetime import datetime\n",
    "        \n",
    "        if isinstance(ts, str):\n",
    "            ts = int(ts)\n",
    "        \n",
    "        return datetime.fromtimestamp(ts)"
   ]
  },
  {
   "cell_type": "code",
   "execution_count": 33,
   "id": "c2417492",
   "metadata": {},
   "outputs": [
    {
     "name": "stdout",
     "output_type": "stream",
     "text": [
      "2023-10-11 10:25:00\n"
     ]
    }
   ],
   "source": [
    "print(str(to_datetime(t)))"
   ]
  },
  {
   "cell_type": "code",
   "execution_count": 49,
   "id": "04d59152",
   "metadata": {},
   "outputs": [
    {
     "name": "stdout",
     "output_type": "stream",
     "text": [
      "Scaled Volumes: [0.5530973451327434, 0.6084070796460177, 0.6637168141592921, 1.6592920353982301, 1.9358407079646018, 8.29646017699115, 85.73008849557523, 0.5530973451327434]\n",
      "Scaled Total: 100.00000000000001\n"
     ]
    }
   ],
   "source": [
    "# Original list of volume values (1000 entries)\n",
    "original_volumes = [10, 11, 12, 30, 35, 150, 1550, 10]  # Include all 1000 entries\n",
    "\n",
    "# Target total value\n",
    "target_total = 100.0\n",
    "\n",
    "# Calculate the current total sum of the original volumes\n",
    "current_total = sum(original_volumes)\n",
    "\n",
    "# Calculate the scaling factor\n",
    "scaling_factor = target_total / current_total\n",
    "\n",
    "# Scale the volumes\n",
    "scaled_volumes = [volume * scaling_factor for volume in original_volumes]\n",
    "\n",
    "# Verify that the scaled volumes sum up to the target total (approximately 100)\n",
    "scaled_total = sum(scaled_volumes)\n",
    "\n",
    "# Print the scaled volumes and the scaled total (should be close to 100)\n",
    "print(\"Scaled Volumes:\", scaled_volumes)\n",
    "print(\"Scaled Total:\", scaled_total)\n"
   ]
  },
  {
   "cell_type": "code",
   "execution_count": 45,
   "id": "2180dc90",
   "metadata": {},
   "outputs": [
    {
     "data": {
      "text/plain": [
       "0     3.759398\n",
       "1     5.639098\n",
       "2     7.518797\n",
       "3    11.278195\n",
       "4     9.398496\n",
       "5    15.037594\n",
       "6    15.413534\n",
       "7    15.789474\n",
       "8    16.165414\n",
       "dtype: float64"
      ]
     },
     "execution_count": 45,
     "metadata": {},
     "output_type": "execute_result"
    }
   ],
   "source": [
    "pd.Series(scaled_volumes)"
   ]
  },
  {
   "cell_type": "code",
   "execution_count": 50,
   "id": "571f370a",
   "metadata": {},
   "outputs": [
    {
     "data": {
      "text/plain": [
       "0     0.553097\n",
       "1     0.608407\n",
       "2     0.663717\n",
       "3     1.659292\n",
       "4     1.935841\n",
       "5     8.296460\n",
       "6    85.730088\n",
       "7     0.553097\n",
       "dtype: float64"
      ]
     },
     "execution_count": 50,
     "metadata": {},
     "output_type": "execute_result"
    }
   ],
   "source": [
    "pd.Series(scaled_volumes)"
   ]
  },
  {
   "cell_type": "code",
   "execution_count": null,
   "id": "36639fc8",
   "metadata": {},
   "outputs": [],
   "source": [
    "import pandas as pd\n",
    "import numpy as np\n",
    "\n",
    "def calculate_rsi(data, period=14):\n",
    "    # Calculate daily price changes\n",
    "    delta = data['Close'].diff()\n",
    "\n",
    "    # Get the positive and negative price changes\n",
    "    gain = delta.where(delta > 0, 0)\n",
    "    loss = -delta.where(delta < 0, 0)\n",
    "\n",
    "    # Calculate the average gain and average loss over the specified period\n",
    "    avg_gain = gain.rolling(window=period, min_periods=1).mean()\n",
    "    avg_loss = loss.rolling(window=period, min_periods=1).mean()\n",
    "\n",
    "    # Calculate the relative strength (RS)\n",
    "    rs = avg_gain / avg_loss\n",
    "\n",
    "    # Calculate the RSI\n",
    "    rsi = 100 - (100 / (1 + rs))\n",
    "\n",
    "    return rsi\n",
    "\n",
    "# Load your price data into a Pandas DataFrame, replace this with your data\n",
    "data = pd.read_csv('your_price_data.csv')\n",
    "\n",
    "# Calculate RSI with a 14-day period (you can adjust the period as needed)\n",
    "data['RSI'] = calculate_rsi(data, period=14)\n",
    "\n",
    "# Print the DataFrame with RSI values\n",
    "print(data)\n"
   ]
  },
  {
   "cell_type": "code",
   "execution_count": 68,
   "id": "65b550de",
   "metadata": {},
   "outputs": [
    {
     "name": "stdout",
     "output_type": "stream",
     "text": [
      "0       NaN\n",
      "1       NaN\n",
      "2       NaN\n",
      "3       NaN\n",
      "4       NaN\n",
      "5       NaN\n",
      "6       NaN\n",
      "7       NaN\n",
      "8       NaN\n",
      "9     555.0\n",
      "10    645.0\n",
      "11    720.0\n",
      "dtype: float64\n"
     ]
    }
   ],
   "source": [
    "# Create a Pandas Series\n",
    "data = pd.Series([10, 25, 30, 40, 50, 60, 70, 80, 90, 100, 100, 100])\n",
    "\n",
    "# Calculate the rolling mean with a window size of 3\n",
    "sum = data.rolling(window=10).sum()\n",
    "\n",
    "print(sum)\n"
   ]
  },
  {
   "cell_type": "code",
   "execution_count": 58,
   "id": "e8d92271",
   "metadata": {},
   "outputs": [
    {
     "data": {
      "text/plain": [
       "0     NaN\n",
       "1    15.0\n",
       "2     5.0\n",
       "3    10.0\n",
       "4    10.0\n",
       "5    10.0\n",
       "6    10.0\n",
       "7    10.0\n",
       "8    10.0\n",
       "9    10.0\n",
       "dtype: float64"
      ]
     },
     "execution_count": 58,
     "metadata": {},
     "output_type": "execute_result"
    }
   ],
   "source": [
    "data.diff()"
   ]
  },
  {
   "cell_type": "code",
   "execution_count": 80,
   "id": "bc375cb9",
   "metadata": {},
   "outputs": [
    {
     "data": {
      "image/png": "[encoded data removed]",
      "text/plain": [
       "<Figure size 640x480 with 1 Axes>"
      ]
     },
     "metadata": {},
     "output_type": "display_data"
    }
   ],
   "source": [
    "import pandas as pd\n",
    "import matplotlib.pyplot as plt\n",
    "\n",
    "# Load data from the CSV file\n",
    "df = pd.read_csv('rsi.csv')\n",
    "\n",
    "# Assuming you have a column named 'X' and 'Y' in your CSV, you can plot it like this\n",
    "plt.plot(df['index'], df['RSI_84'])\n",
    "\n",
    "# Customize the plot (add labels, title, etc.) if needed\n",
    "plt.xlabel('X-axis Label')\n",
    "plt.ylabel('Y-axis Label')\n",
    "plt.title('Data Plot')\n",
    "\n",
    "# Display the plot\n",
    "plt.show()\n"
   ]
  },
  {
   "cell_type": "code",
   "execution_count": 1,
   "id": "bbc3b0b6",
   "metadata": {},
   "outputs": [
    {
     "data": {
      "image/png": "[encoded data removed]",
      "text/plain": [
       "<Figure size 640x480 with 1 Axes>"
      ]
     },
     "metadata": {},
     "output_type": "display_data"
    }
   ],
   "source": [
    "import pandas as pd\n",
    "import matplotlib.pyplot as plt\n",
    "\n",
    "# Load data from the CSV file\n",
    "df = pd.read_csv('volume.csv')\n",
    "\n",
    "# Assuming you have a column named 'X' and 'Y' in your CSV, you can plot it like this\n",
    "plt.plot(df['index'], df['volume'])\n",
    "\n",
    "# Customize the plot (add labels, title, etc.) if needed\n",
    "plt.xlabel('X-axis Label')\n",
    "plt.ylabel('Y-axis Label')\n",
    "plt.title('Data Plot')\n",
    "\n",
    "# Display the plot\n",
    "plt.show()"
   ]
  },
  {
   "cell_type": "code",
   "execution_count": 15,
   "id": "cbd8ced3",
   "metadata": {},
   "outputs": [],
   "source": [
    "def scale_data(data, name):\n",
    "\n",
    "    # Scale values over target_total value\n",
    "    target_total = 100.0\n",
    "\n",
    "    # Given data as Series of values, transform it to a List\n",
    "    current_total = sum(data.to_list())\n",
    "\n",
    "    # Calculate the scaling factor\n",
    "    scaling_factor = target_total / current_total\n",
    "\n",
    "    # Scale the volumes\n",
    "    scaled_data = pd.Series([volume * scaling_factor for volume in data.to_list()], name=f\"scaled_{name}\")\n",
    "\n",
    "    # Verify that the scaled volumes sum up to the target total (approximately 100)\n",
    "    #scaled_total = sum(scaled_volumes)\n",
    "\n",
    "    return scaled_data\n",
    "\n",
    "def normalize_data(data, name):\n",
    "    normalized_data = pd.Series(100 * ((data - data.min()) / (data.max() - data.min())), name=f\"normalized_{name}\")\n",
    "\n",
    "    return normalized_data"
   ]
  },
  {
   "cell_type": "code",
   "execution_count": 5,
   "id": "b89f95c9",
   "metadata": {},
   "outputs": [
    {
     "data": {
      "text/plain": [
       "0      0.033827\n",
       "1      0.013494\n",
       "2      0.074303\n",
       "3      0.038245\n",
       "4      0.115593\n",
       "         ...   \n",
       "294    0.079135\n",
       "295    0.052230\n",
       "296    0.067624\n",
       "297    0.024377\n",
       "298    0.039354\n",
       "Name: scaled_volume, Length: 299, dtype: float64"
      ]
     },
     "execution_count": 5,
     "metadata": {},
     "output_type": "execute_result"
    }
   ],
   "source": [
    "scale_data(df['volume'].iloc[1:], name=\"volume\")"
   ]
  },
  {
   "cell_type": "code",
   "execution_count": 4,
   "id": "16d4e692",
   "metadata": {},
   "outputs": [
    {
     "data": {
      "text/plain": [
       "0          NaN\n",
       "1      11.3591\n",
       "2       4.5311\n",
       "3      24.9507\n",
       "4      12.8425\n",
       "        ...   \n",
       "295    26.5732\n",
       "296    17.5386\n",
       "297    22.7079\n",
       "298     8.1858\n",
       "299    13.2150\n",
       "Name: volume, Length: 300, dtype: float64"
      ]
     },
     "execution_count": 4,
     "metadata": {},
     "output_type": "execute_result"
    }
   ],
   "source": [
    "df['volume']"
   ]
  },
  {
   "cell_type": "code",
   "execution_count": 6,
   "id": "e921328e",
   "metadata": {},
   "outputs": [
    {
     "data": {
      "text/html": [
       "<div>\n",
       "<style scoped>\n",
       "    .dataframe tbody tr th:only-of-type {\n",
       "        vertical-align: middle;\n",
       "    }\n",
       "\n",
       "    .dataframe tbody tr th {\n",
       "        vertical-align: top;\n",
       "    }\n",
       "\n",
       "    .dataframe thead th {\n",
       "        text-align: right;\n",
       "    }\n",
       "</style>\n",
       "<table border=\"1\" class=\"dataframe\">\n",
       "  <thead>\n",
       "    <tr style=\"text-align: right;\">\n",
       "      <th></th>\n",
       "      <th>index</th>\n",
       "      <th>volume</th>\n",
       "    </tr>\n",
       "  </thead>\n",
       "  <tbody>\n",
       "    <tr>\n",
       "      <th>0</th>\n",
       "      <td>3000</td>\n",
       "      <td>NaN</td>\n",
       "    </tr>\n",
       "    <tr>\n",
       "      <th>1</th>\n",
       "      <td>3010</td>\n",
       "      <td>11.3591</td>\n",
       "    </tr>\n",
       "    <tr>\n",
       "      <th>2</th>\n",
       "      <td>3020</td>\n",
       "      <td>4.5311</td>\n",
       "    </tr>\n",
       "    <tr>\n",
       "      <th>3</th>\n",
       "      <td>3030</td>\n",
       "      <td>24.9507</td>\n",
       "    </tr>\n",
       "    <tr>\n",
       "      <th>4</th>\n",
       "      <td>3040</td>\n",
       "      <td>12.8425</td>\n",
       "    </tr>\n",
       "    <tr>\n",
       "      <th>...</th>\n",
       "      <td>...</td>\n",
       "      <td>...</td>\n",
       "    </tr>\n",
       "    <tr>\n",
       "      <th>295</th>\n",
       "      <td>5950</td>\n",
       "      <td>26.5732</td>\n",
       "    </tr>\n",
       "    <tr>\n",
       "      <th>296</th>\n",
       "      <td>5960</td>\n",
       "      <td>17.5386</td>\n",
       "    </tr>\n",
       "    <tr>\n",
       "      <th>297</th>\n",
       "      <td>5970</td>\n",
       "      <td>22.7079</td>\n",
       "    </tr>\n",
       "    <tr>\n",
       "      <th>298</th>\n",
       "      <td>5980</td>\n",
       "      <td>8.1858</td>\n",
       "    </tr>\n",
       "    <tr>\n",
       "      <th>299</th>\n",
       "      <td>5990</td>\n",
       "      <td>13.2150</td>\n",
       "    </tr>\n",
       "  </tbody>\n",
       "</table>\n",
       "<p>300 rows × 2 columns</p>\n",
       "</div>"
      ],
      "text/plain": [
       "     index   volume\n",
       "0     3000      NaN\n",
       "1     3010  11.3591\n",
       "2     3020   4.5311\n",
       "3     3030  24.9507\n",
       "4     3040  12.8425\n",
       "..     ...      ...\n",
       "295   5950  26.5732\n",
       "296   5960  17.5386\n",
       "297   5970  22.7079\n",
       "298   5980   8.1858\n",
       "299   5990  13.2150\n",
       "\n",
       "[300 rows x 2 columns]"
      ]
     },
     "execution_count": 6,
     "metadata": {},
     "output_type": "execute_result"
    }
   ],
   "source": [
    "df"
   ]
  },
  {
   "cell_type": "code",
   "execution_count": 34,
   "id": "37e10cbc",
   "metadata": {},
   "outputs": [
    {
     "data": {
      "image/png": "[encoded data removed]",
      "text/plain": [
       "<Figure size 640x480 with 1 Axes>"
      ]
     },
     "metadata": {},
     "output_type": "display_data"
    }
   ],
   "source": [
    "import pandas as pd\n",
    "import matplotlib.pyplot as plt\n",
    "\n",
    "# Load data from the CSV file\n",
    "df = pd.read_csv('rsi.csv')\n",
    "\n",
    "# Assuming you have a column named 'X' and 'Y' in your CSV, you can plot it like this\n",
    "plt.plot(df['index'], df['RSI_14'])\n",
    "\n",
    "# Customize the plot (add labels, title, etc.) if needed\n",
    "plt.xlabel('X-axis Label')\n",
    "plt.ylabel('Y-axis Label')\n",
    "plt.title('Data Plot')\n",
    "\n",
    "# Display the plot\n",
    "plt.show()"
   ]
  },
  {
   "cell_type": "code",
   "execution_count": 11,
   "id": "94490278",
   "metadata": {},
   "outputs": [],
   "source": [
    "vol = [\n",
    "    1760.539,\n",
    "    1788.957,\n",
    "    1817.243,\n",
    "    1999.919,\n",
    "    2254.239,\n",
    "    2264.495,\n",
    "    2329.511,\n",
    "    2361.575,\n",
    "    2413.081,\n",
    "    2427.493,\n",
    "    2475.035,\n",
    "    2511.836,\n",
    "    2548.216,\n",
    "    2599.916,\n",
    "    2621.693,\n",
    "    2626.593,\n",
    "    2784.559,\n",
    "    2837.79,\n",
    "    2890.595,\n",
    "    2905.065,\n",
    "    2915.17,\n",
    "    2922.246,\n",
    "    2930.732,\n",
    "    2995.056,\n",
    "    3039.476,\n",
    "    3102.731,\n",
    "    3140.729,\n",
    "    3216.787,\n",
    "    3244.967,\n",
    "    3249.051,\n",
    "    3456.097,\n",
    "    3481.787,\n",
    "    3530.4,\n",
    "    3734.47,\n",
    "    3737.558,\n",
    "    3771.415,\n",
    "    3777.895,\n",
    "    3801.719,\n",
    "    4078.526,\n",
    "    4094.488,\n",
    "    4169.09,\n",
    "    4200.877,\n",
    "    4288.63,\n",
    "    4323.928,\n",
    "    4408.929,\n",
    "    4463.475,\n",
    "    4482.222,\n",
    "    4545.181,\n",
    "    4552.006,\n",
    "    4552.109,\n",
    "    4566.89,\n",
    "    4631.004,\n",
    "    4704.903,\n",
    "    4765.066,\n",
    "    5044.199,\n",
    "    5066.282,\n",
    "    5165.803,\n",
    "    5231.97,\n",
    "    5279.139,\n",
    "    5363.232,\n",
    "    5476.924,\n",
    "    5543.127,\n",
    "    5625.699,\n",
    "    5882.398,\n",
    "    6049.387,\n",
    "    6258.582,\n",
    "    6319.874,\n",
    "    6468.092,\n",
    "    6865.194,\n",
    "    6942.442,\n",
    "    7159.199,\n",
    "    7276.96,\n",
    "    7281.318,\n",
    "    7318.812,\n",
    "    7640.706,\n",
    "    8029.837,\n",
    "    8068.322,\n",
    "    8232.761,\n",
    "    8345.412,\n",
    "    8484.376,\n",
    "    8532.97,\n",
    "    9648.005,\n",
    "    9667.443,\n",
    "    9676.333,\n",
    "    10003.014,\n",
    "    10312.084,\n",
    "    11528.452,\n",
    "    12025.339,\n",
    "    12559.441,\n",
    "    13715.949,\n",
    "    14740.837,\n",
    "    15004.003,\n",
    "    15038.236,\n",
    "    18036.715,\n",
    "    19934.292,\n",
    "    21350.45,\n",
    "    22300.853,\n",
    "    22348.727,\n",
    "    25519.918,\n",
    "    28491.336\n",
    "]"
   ]
  },
  {
   "cell_type": "code",
   "execution_count": 12,
   "id": "3e67aed3",
   "metadata": {},
   "outputs": [],
   "source": [
    "vol_df = pd.Series(vol)"
   ]
  },
  {
   "cell_type": "code",
   "execution_count": 13,
   "id": "971311d6",
   "metadata": {},
   "outputs": [
    {
     "data": {
      "text/plain": [
       "0      1760.539\n",
       "1      1788.957\n",
       "2      1817.243\n",
       "3      1999.919\n",
       "4      2254.239\n",
       "        ...    \n",
       "95    21350.450\n",
       "96    22300.853\n",
       "97    22348.727\n",
       "98    25519.918\n",
       "99    28491.336\n",
       "Length: 100, dtype: float64"
      ]
     },
     "execution_count": 13,
     "metadata": {},
     "output_type": "execute_result"
    }
   ],
   "source": [
    "vol_df"
   ]
  },
  {
   "cell_type": "code",
   "execution_count": 18,
   "id": "9e178a02",
   "metadata": {},
   "outputs": [],
   "source": [
    "n = normalize_data(vol_df, name='normalized')"
   ]
  },
  {
   "cell_type": "code",
   "execution_count": 19,
   "id": "6937c038",
   "metadata": {},
   "outputs": [],
   "source": [
    "s = scale_data(vol_df, name='scaled')"
   ]
  },
  {
   "cell_type": "code",
   "execution_count": 21,
   "id": "b97d3f43",
   "metadata": {},
   "outputs": [
    {
     "data": {
      "text/plain": [
       "80     25.335687\n",
       "81     29.507036\n",
       "82     29.579754\n",
       "83     29.613012\n",
       "84     30.835126\n",
       "85     31.991358\n",
       "86     36.541795\n",
       "87     38.400651\n",
       "88     40.398728\n",
       "89     44.725228\n",
       "90     48.559338\n",
       "91     49.543843\n",
       "92     49.671908\n",
       "93     60.889228\n",
       "94     67.988070\n",
       "95     73.285922\n",
       "96     76.841383\n",
       "97     77.020479\n",
       "98     88.883915\n",
       "99    100.000000\n",
       "Name: normalized_normalized, dtype: float64"
      ]
     },
     "execution_count": 21,
     "metadata": {},
     "output_type": "execute_result"
    }
   ],
   "source": [
    "n.tail(20)"
   ]
  },
  {
   "cell_type": "code",
   "execution_count": 24,
   "id": "d3aa7537",
   "metadata": {},
   "outputs": [
    {
     "data": {
      "text/plain": [
       "4.317206591805018"
      ]
     },
     "execution_count": 24,
     "metadata": {},
     "output_type": "execute_result"
    }
   ],
   "source": [
    "s.max()"
   ]
  },
  {
   "cell_type": "code",
   "execution_count": 25,
   "id": "f0b3c2c7",
   "metadata": {},
   "outputs": [],
   "source": [
    "vol2 = [\n",
    "    #1760.539,\n",
    "    1788.957,\n",
    "    1817.243,\n",
    "    1999.919,\n",
    "    2254.239,\n",
    "    2264.495,\n",
    "    2329.511,\n",
    "    2361.575,\n",
    "    2413.081,\n",
    "    2427.493,\n",
    "    2475.035,\n",
    "    2511.836,\n",
    "    2548.216,\n",
    "    2599.916,\n",
    "    2621.693,\n",
    "    2626.593,\n",
    "    2784.559,\n",
    "    2837.79,\n",
    "    2890.595,\n",
    "    2905.065,\n",
    "    2915.17,\n",
    "    2922.246,\n",
    "    2930.732,\n",
    "    2995.056,\n",
    "    3039.476,\n",
    "    3102.731,\n",
    "    3140.729,\n",
    "    3216.787,\n",
    "    3244.967,\n",
    "    3249.051,\n",
    "    3456.097,\n",
    "    3481.787,\n",
    "    3530.4,\n",
    "    3734.47,\n",
    "    3737.558,\n",
    "    3771.415,\n",
    "    3777.895,\n",
    "    3801.719,\n",
    "    4078.526,\n",
    "    4094.488,\n",
    "    4169.09,\n",
    "    4200.877,\n",
    "    4288.63,\n",
    "    4323.928,\n",
    "    4408.929,\n",
    "    4463.475,\n",
    "    4482.222,\n",
    "    4545.181,\n",
    "    4552.006,\n",
    "    4552.109,\n",
    "    4566.89,\n",
    "    4631.004,\n",
    "    4704.903,\n",
    "    4765.066,\n",
    "    5044.199,\n",
    "    5066.282,\n",
    "    5165.803,\n",
    "    5231.97,\n",
    "    5279.139,\n",
    "    5363.232,\n",
    "    5476.924,\n",
    "    5543.127,\n",
    "    5625.699,\n",
    "    5882.398,\n",
    "    6049.387,\n",
    "    6258.582,\n",
    "    6319.874,\n",
    "    6468.092,\n",
    "    6865.194,\n",
    "    6942.442,\n",
    "    7159.199,\n",
    "    7276.96,\n",
    "    7281.318,\n",
    "    7318.812,\n",
    "    7640.706,\n",
    "    8029.837,\n",
    "    8068.322,\n",
    "    8232.761,\n",
    "    8345.412,\n",
    "    8484.376,\n",
    "    8532.97,\n",
    "    9648.005,\n",
    "    9667.443,\n",
    "    9676.333,\n",
    "    10003.014,\n",
    "    10312.084,\n",
    "    11528.452,\n",
    "    12025.339,\n",
    "    12559.441,\n",
    "    13715.949,\n",
    "    14740.837,\n",
    "    15004.003,\n",
    "    15038.236,\n",
    "    18036.715,\n",
    "    19934.292,\n",
    "    21350.45,\n",
    "    22300.853,\n",
    "    22348.727,\n",
    "    25519.918,\n",
    "    28491.336,\n",
    "    122602.569\n",
    "]"
   ]
  },
  {
   "cell_type": "code",
   "execution_count": 26,
   "id": "eec6e82a",
   "metadata": {},
   "outputs": [],
   "source": [
    "vol_df2 = pd.Series(vol2)"
   ]
  },
  {
   "cell_type": "code",
   "execution_count": 27,
   "id": "765464c3",
   "metadata": {},
   "outputs": [],
   "source": [
    "s2 = scale_data(vol_df2, name='scaled')"
   ]
  },
  {
   "cell_type": "code",
   "execution_count": 31,
   "id": "c29804c9",
   "metadata": {},
   "outputs": [
    {
     "data": {
      "text/plain": [
       "80     1.235672\n",
       "81     1.238161\n",
       "82     1.239300\n",
       "83     1.281139\n",
       "84     1.320724\n",
       "85     1.476510\n",
       "86     1.540149\n",
       "87     1.608555\n",
       "88     1.756675\n",
       "89     1.887938\n",
       "90     1.921643\n",
       "91     1.926027\n",
       "92     2.310058\n",
       "93     2.553091\n",
       "94     2.734466\n",
       "95     2.856189\n",
       "96     2.862321\n",
       "97     3.268472\n",
       "98     3.649038\n",
       "99    15.702366\n",
       "Name: scaled_scaled, dtype: float64"
      ]
     },
     "execution_count": 31,
     "metadata": {},
     "output_type": "execute_result"
    }
   ],
   "source": [
    "s2.tail(20)"
   ]
  },
  {
   "cell_type": "code",
   "execution_count": 32,
   "id": "7e11519e",
   "metadata": {},
   "outputs": [
    {
     "data": {
      "text/plain": [
       "80    1.292975\n",
       "81    1.461933\n",
       "82    1.464879\n",
       "83    1.466226\n",
       "84    1.515727\n",
       "85    1.562559\n",
       "86    1.746872\n",
       "87    1.822164\n",
       "88    1.903094\n",
       "89    2.078337\n",
       "90    2.233635\n",
       "91    2.273512\n",
       "92    2.278699\n",
       "93    2.733049\n",
       "94    3.020583\n",
       "95    3.235170\n",
       "96    3.379181\n",
       "97    3.386435\n",
       "98    3.866957\n",
       "99    4.317207\n",
       "Name: scaled_scaled, dtype: float64"
      ]
     },
     "execution_count": 32,
     "metadata": {},
     "output_type": "execute_result"
    }
   ],
   "source": [
    "s.tail(20)"
   ]
  },
  {
   "cell_type": "code",
   "execution_count": 41,
   "id": "2d6d760a",
   "metadata": {},
   "outputs": [
    {
     "ename": "ValueError",
     "evalue": "Input X contains NaN.\nLinearRegression does not accept missing values encoded as NaN natively. For supervised learning, you might want to consider sklearn.ensemble.HistGradientBoostingClassifier and Regressor which accept missing values encoded as NaNs natively. Alternatively, it is possible to preprocess the data, for instance by using an imputer transformer in a pipeline or drop samples with missing values. See https://scikit-learn.org/stable/modules/impute.html You can find a list of all estimators that handle NaN values at the following page: https://scikit-learn.org/stable/modules/impute.html#estimators-that-handle-nan-values",
     "output_type": "error",
     "traceback": [
      "\u001b[1;31m---------------------------------------------------------------------------\u001b[0m",
      "\u001b[1;31mValueError\u001b[0m                                Traceback (most recent call last)",
      "Cell \u001b[1;32mIn[41], line 14\u001b[0m\n\u001b[0;32m     11\u001b[0m model \u001b[38;5;241m=\u001b[39m LinearRegression()\n\u001b[0;32m     13\u001b[0m \u001b[38;5;66;03m# Fit the model\u001b[39;00m\n\u001b[1;32m---> 14\u001b[0m \u001b[43mmodel\u001b[49m\u001b[38;5;241;43m.\u001b[39;49m\u001b[43mfit\u001b[49m\u001b[43m(\u001b[49m\u001b[43m[\u001b[49m\u001b[43m[\u001b[49m\u001b[43mi\u001b[49m\u001b[43m]\u001b[49m\u001b[43m \u001b[49m\u001b[38;5;28;43;01mfor\u001b[39;49;00m\u001b[43m \u001b[49m\u001b[43mi\u001b[49m\u001b[43m \u001b[49m\u001b[38;5;129;43;01min\u001b[39;49;00m\u001b[43m \u001b[49m\u001b[43mx\u001b[49m\u001b[43m]\u001b[49m\u001b[43m,\u001b[49m\u001b[43m \u001b[49m\u001b[43my\u001b[49m\u001b[43m)\u001b[49m\n\u001b[0;32m     16\u001b[0m \u001b[38;5;66;03m# Get the slope\u001b[39;00m\n\u001b[0;32m     17\u001b[0m slope \u001b[38;5;241m=\u001b[39m model\u001b[38;5;241m.\u001b[39mcoef_[\u001b[38;5;241m0\u001b[39m]\n",
      "File \u001b[1;32m~\\AppData\\Local\\Programs\\Python\\Python311\\Lib\\site-packages\\sklearn\\linear_model\\_base.py:649\u001b[0m, in \u001b[0;36mLinearRegression.fit\u001b[1;34m(self, X, y, sample_weight)\u001b[0m\n\u001b[0;32m    645\u001b[0m n_jobs_ \u001b[38;5;241m=\u001b[39m \u001b[38;5;28mself\u001b[39m\u001b[38;5;241m.\u001b[39mn_jobs\n\u001b[0;32m    647\u001b[0m accept_sparse \u001b[38;5;241m=\u001b[39m \u001b[38;5;28;01mFalse\u001b[39;00m \u001b[38;5;28;01mif\u001b[39;00m \u001b[38;5;28mself\u001b[39m\u001b[38;5;241m.\u001b[39mpositive \u001b[38;5;28;01melse\u001b[39;00m [\u001b[38;5;124m\"\u001b[39m\u001b[38;5;124mcsr\u001b[39m\u001b[38;5;124m\"\u001b[39m, \u001b[38;5;124m\"\u001b[39m\u001b[38;5;124mcsc\u001b[39m\u001b[38;5;124m\"\u001b[39m, \u001b[38;5;124m\"\u001b[39m\u001b[38;5;124mcoo\u001b[39m\u001b[38;5;124m\"\u001b[39m]\n\u001b[1;32m--> 649\u001b[0m X, y \u001b[38;5;241m=\u001b[39m \u001b[38;5;28;43mself\u001b[39;49m\u001b[38;5;241;43m.\u001b[39;49m\u001b[43m_validate_data\u001b[49m\u001b[43m(\u001b[49m\n\u001b[0;32m    650\u001b[0m \u001b[43m    \u001b[49m\u001b[43mX\u001b[49m\u001b[43m,\u001b[49m\u001b[43m \u001b[49m\u001b[43my\u001b[49m\u001b[43m,\u001b[49m\u001b[43m \u001b[49m\u001b[43maccept_sparse\u001b[49m\u001b[38;5;241;43m=\u001b[39;49m\u001b[43maccept_sparse\u001b[49m\u001b[43m,\u001b[49m\u001b[43m \u001b[49m\u001b[43my_numeric\u001b[49m\u001b[38;5;241;43m=\u001b[39;49m\u001b[38;5;28;43;01mTrue\u001b[39;49;00m\u001b[43m,\u001b[49m\u001b[43m \u001b[49m\u001b[43mmulti_output\u001b[49m\u001b[38;5;241;43m=\u001b[39;49m\u001b[38;5;28;43;01mTrue\u001b[39;49;00m\n\u001b[0;32m    651\u001b[0m \u001b[43m\u001b[49m\u001b[43m)\u001b[49m\n\u001b[0;32m    653\u001b[0m sample_weight \u001b[38;5;241m=\u001b[39m _check_sample_weight(\n\u001b[0;32m    654\u001b[0m     sample_weight, X, dtype\u001b[38;5;241m=\u001b[39mX\u001b[38;5;241m.\u001b[39mdtype, only_non_negative\u001b[38;5;241m=\u001b[39m\u001b[38;5;28;01mTrue\u001b[39;00m\n\u001b[0;32m    655\u001b[0m )\n\u001b[0;32m    657\u001b[0m X, y, X_offset, y_offset, X_scale \u001b[38;5;241m=\u001b[39m _preprocess_data(\n\u001b[0;32m    658\u001b[0m     X,\n\u001b[0;32m    659\u001b[0m     y,\n\u001b[1;32m   (...)\u001b[0m\n\u001b[0;32m    662\u001b[0m     sample_weight\u001b[38;5;241m=\u001b[39msample_weight,\n\u001b[0;32m    663\u001b[0m )\n",
      "File \u001b[1;32m~\\AppData\\Local\\Programs\\Python\\Python311\\Lib\\site-packages\\sklearn\\base.py:554\u001b[0m, in \u001b[0;36mBaseEstimator._validate_data\u001b[1;34m(self, X, y, reset, validate_separately, **check_params)\u001b[0m\n\u001b[0;32m    552\u001b[0m         y \u001b[38;5;241m=\u001b[39m check_array(y, input_name\u001b[38;5;241m=\u001b[39m\u001b[38;5;124m\"\u001b[39m\u001b[38;5;124my\u001b[39m\u001b[38;5;124m\"\u001b[39m, \u001b[38;5;241m*\u001b[39m\u001b[38;5;241m*\u001b[39mcheck_y_params)\n\u001b[0;32m    553\u001b[0m     \u001b[38;5;28;01melse\u001b[39;00m:\n\u001b[1;32m--> 554\u001b[0m         X, y \u001b[38;5;241m=\u001b[39m \u001b[43mcheck_X_y\u001b[49m\u001b[43m(\u001b[49m\u001b[43mX\u001b[49m\u001b[43m,\u001b[49m\u001b[43m \u001b[49m\u001b[43my\u001b[49m\u001b[43m,\u001b[49m\u001b[43m \u001b[49m\u001b[38;5;241;43m*\u001b[39;49m\u001b[38;5;241;43m*\u001b[39;49m\u001b[43mcheck_params\u001b[49m\u001b[43m)\u001b[49m\n\u001b[0;32m    555\u001b[0m     out \u001b[38;5;241m=\u001b[39m X, y\n\u001b[0;32m    557\u001b[0m \u001b[38;5;28;01mif\u001b[39;00m \u001b[38;5;129;01mnot\u001b[39;00m no_val_X \u001b[38;5;129;01mand\u001b[39;00m check_params\u001b[38;5;241m.\u001b[39mget(\u001b[38;5;124m\"\u001b[39m\u001b[38;5;124mensure_2d\u001b[39m\u001b[38;5;124m\"\u001b[39m, \u001b[38;5;28;01mTrue\u001b[39;00m):\n",
      "File \u001b[1;32m~\\AppData\\Local\\Programs\\Python\\Python311\\Lib\\site-packages\\sklearn\\utils\\validation.py:1104\u001b[0m, in \u001b[0;36mcheck_X_y\u001b[1;34m(X, y, accept_sparse, accept_large_sparse, dtype, order, copy, force_all_finite, ensure_2d, allow_nd, multi_output, ensure_min_samples, ensure_min_features, y_numeric, estimator)\u001b[0m\n\u001b[0;32m   1099\u001b[0m         estimator_name \u001b[38;5;241m=\u001b[39m _check_estimator_name(estimator)\n\u001b[0;32m   1100\u001b[0m     \u001b[38;5;28;01mraise\u001b[39;00m \u001b[38;5;167;01mValueError\u001b[39;00m(\n\u001b[0;32m   1101\u001b[0m         \u001b[38;5;124mf\u001b[39m\u001b[38;5;124m\"\u001b[39m\u001b[38;5;132;01m{\u001b[39;00mestimator_name\u001b[38;5;132;01m}\u001b[39;00m\u001b[38;5;124m requires y to be passed, but the target y is None\u001b[39m\u001b[38;5;124m\"\u001b[39m\n\u001b[0;32m   1102\u001b[0m     )\n\u001b[1;32m-> 1104\u001b[0m X \u001b[38;5;241m=\u001b[39m \u001b[43mcheck_array\u001b[49m\u001b[43m(\u001b[49m\n\u001b[0;32m   1105\u001b[0m \u001b[43m    \u001b[49m\u001b[43mX\u001b[49m\u001b[43m,\u001b[49m\n\u001b[0;32m   1106\u001b[0m \u001b[43m    \u001b[49m\u001b[43maccept_sparse\u001b[49m\u001b[38;5;241;43m=\u001b[39;49m\u001b[43maccept_sparse\u001b[49m\u001b[43m,\u001b[49m\n\u001b[0;32m   1107\u001b[0m \u001b[43m    \u001b[49m\u001b[43maccept_large_sparse\u001b[49m\u001b[38;5;241;43m=\u001b[39;49m\u001b[43maccept_large_sparse\u001b[49m\u001b[43m,\u001b[49m\n\u001b[0;32m   1108\u001b[0m \u001b[43m    \u001b[49m\u001b[43mdtype\u001b[49m\u001b[38;5;241;43m=\u001b[39;49m\u001b[43mdtype\u001b[49m\u001b[43m,\u001b[49m\n\u001b[0;32m   1109\u001b[0m \u001b[43m    \u001b[49m\u001b[43morder\u001b[49m\u001b[38;5;241;43m=\u001b[39;49m\u001b[43morder\u001b[49m\u001b[43m,\u001b[49m\n\u001b[0;32m   1110\u001b[0m \u001b[43m    \u001b[49m\u001b[43mcopy\u001b[49m\u001b[38;5;241;43m=\u001b[39;49m\u001b[43mcopy\u001b[49m\u001b[43m,\u001b[49m\n\u001b[0;32m   1111\u001b[0m \u001b[43m    \u001b[49m\u001b[43mforce_all_finite\u001b[49m\u001b[38;5;241;43m=\u001b[39;49m\u001b[43mforce_all_finite\u001b[49m\u001b[43m,\u001b[49m\n\u001b[0;32m   1112\u001b[0m \u001b[43m    \u001b[49m\u001b[43mensure_2d\u001b[49m\u001b[38;5;241;43m=\u001b[39;49m\u001b[43mensure_2d\u001b[49m\u001b[43m,\u001b[49m\n\u001b[0;32m   1113\u001b[0m \u001b[43m    \u001b[49m\u001b[43mallow_nd\u001b[49m\u001b[38;5;241;43m=\u001b[39;49m\u001b[43mallow_nd\u001b[49m\u001b[43m,\u001b[49m\n\u001b[0;32m   1114\u001b[0m \u001b[43m    \u001b[49m\u001b[43mensure_min_samples\u001b[49m\u001b[38;5;241;43m=\u001b[39;49m\u001b[43mensure_min_samples\u001b[49m\u001b[43m,\u001b[49m\n\u001b[0;32m   1115\u001b[0m \u001b[43m    \u001b[49m\u001b[43mensure_min_features\u001b[49m\u001b[38;5;241;43m=\u001b[39;49m\u001b[43mensure_min_features\u001b[49m\u001b[43m,\u001b[49m\n\u001b[0;32m   1116\u001b[0m \u001b[43m    \u001b[49m\u001b[43mestimator\u001b[49m\u001b[38;5;241;43m=\u001b[39;49m\u001b[43mestimator\u001b[49m\u001b[43m,\u001b[49m\n\u001b[0;32m   1117\u001b[0m \u001b[43m    \u001b[49m\u001b[43minput_name\u001b[49m\u001b[38;5;241;43m=\u001b[39;49m\u001b[38;5;124;43m\"\u001b[39;49m\u001b[38;5;124;43mX\u001b[39;49m\u001b[38;5;124;43m\"\u001b[39;49m\u001b[43m,\u001b[49m\n\u001b[0;32m   1118\u001b[0m \u001b[43m\u001b[49m\u001b[43m)\u001b[49m\n\u001b[0;32m   1120\u001b[0m y \u001b[38;5;241m=\u001b[39m _check_y(y, multi_output\u001b[38;5;241m=\u001b[39mmulti_output, y_numeric\u001b[38;5;241m=\u001b[39my_numeric, estimator\u001b[38;5;241m=\u001b[39mestimator)\n\u001b[0;32m   1122\u001b[0m check_consistent_length(X, y)\n",
      "File \u001b[1;32m~\\AppData\\Local\\Programs\\Python\\Python311\\Lib\\site-packages\\sklearn\\utils\\validation.py:919\u001b[0m, in \u001b[0;36mcheck_array\u001b[1;34m(array, accept_sparse, accept_large_sparse, dtype, order, copy, force_all_finite, ensure_2d, allow_nd, ensure_min_samples, ensure_min_features, estimator, input_name)\u001b[0m\n\u001b[0;32m    913\u001b[0m         \u001b[38;5;28;01mraise\u001b[39;00m \u001b[38;5;167;01mValueError\u001b[39;00m(\n\u001b[0;32m    914\u001b[0m             \u001b[38;5;124m\"\u001b[39m\u001b[38;5;124mFound array with dim \u001b[39m\u001b[38;5;132;01m%d\u001b[39;00m\u001b[38;5;124m. \u001b[39m\u001b[38;5;132;01m%s\u001b[39;00m\u001b[38;5;124m expected <= 2.\u001b[39m\u001b[38;5;124m\"\u001b[39m\n\u001b[0;32m    915\u001b[0m             \u001b[38;5;241m%\u001b[39m (array\u001b[38;5;241m.\u001b[39mndim, estimator_name)\n\u001b[0;32m    916\u001b[0m         )\n\u001b[0;32m    918\u001b[0m     \u001b[38;5;28;01mif\u001b[39;00m force_all_finite:\n\u001b[1;32m--> 919\u001b[0m         \u001b[43m_assert_all_finite\u001b[49m\u001b[43m(\u001b[49m\n\u001b[0;32m    920\u001b[0m \u001b[43m            \u001b[49m\u001b[43marray\u001b[49m\u001b[43m,\u001b[49m\n\u001b[0;32m    921\u001b[0m \u001b[43m            \u001b[49m\u001b[43minput_name\u001b[49m\u001b[38;5;241;43m=\u001b[39;49m\u001b[43minput_name\u001b[49m\u001b[43m,\u001b[49m\n\u001b[0;32m    922\u001b[0m \u001b[43m            \u001b[49m\u001b[43mestimator_name\u001b[49m\u001b[38;5;241;43m=\u001b[39;49m\u001b[43mestimator_name\u001b[49m\u001b[43m,\u001b[49m\n\u001b[0;32m    923\u001b[0m \u001b[43m            \u001b[49m\u001b[43mallow_nan\u001b[49m\u001b[38;5;241;43m=\u001b[39;49m\u001b[43mforce_all_finite\u001b[49m\u001b[43m \u001b[49m\u001b[38;5;241;43m==\u001b[39;49m\u001b[43m \u001b[49m\u001b[38;5;124;43m\"\u001b[39;49m\u001b[38;5;124;43mallow-nan\u001b[39;49m\u001b[38;5;124;43m\"\u001b[39;49m\u001b[43m,\u001b[49m\n\u001b[0;32m    924\u001b[0m \u001b[43m        \u001b[49m\u001b[43m)\u001b[49m\n\u001b[0;32m    926\u001b[0m \u001b[38;5;28;01mif\u001b[39;00m ensure_min_samples \u001b[38;5;241m>\u001b[39m \u001b[38;5;241m0\u001b[39m:\n\u001b[0;32m    927\u001b[0m     n_samples \u001b[38;5;241m=\u001b[39m _num_samples(array)\n",
      "File \u001b[1;32m~\\AppData\\Local\\Programs\\Python\\Python311\\Lib\\site-packages\\sklearn\\utils\\validation.py:161\u001b[0m, in \u001b[0;36m_assert_all_finite\u001b[1;34m(X, allow_nan, msg_dtype, estimator_name, input_name)\u001b[0m\n\u001b[0;32m    144\u001b[0m \u001b[38;5;28;01mif\u001b[39;00m estimator_name \u001b[38;5;129;01mand\u001b[39;00m input_name \u001b[38;5;241m==\u001b[39m \u001b[38;5;124m\"\u001b[39m\u001b[38;5;124mX\u001b[39m\u001b[38;5;124m\"\u001b[39m \u001b[38;5;129;01mand\u001b[39;00m has_nan_error:\n\u001b[0;32m    145\u001b[0m     \u001b[38;5;66;03m# Improve the error message on how to handle missing values in\u001b[39;00m\n\u001b[0;32m    146\u001b[0m     \u001b[38;5;66;03m# scikit-learn.\u001b[39;00m\n\u001b[0;32m    147\u001b[0m     msg_err \u001b[38;5;241m+\u001b[39m\u001b[38;5;241m=\u001b[39m (\n\u001b[0;32m    148\u001b[0m         \u001b[38;5;124mf\u001b[39m\u001b[38;5;124m\"\u001b[39m\u001b[38;5;130;01m\\n\u001b[39;00m\u001b[38;5;132;01m{\u001b[39;00mestimator_name\u001b[38;5;132;01m}\u001b[39;00m\u001b[38;5;124m does not accept missing values\u001b[39m\u001b[38;5;124m\"\u001b[39m\n\u001b[0;32m    149\u001b[0m         \u001b[38;5;124m\"\u001b[39m\u001b[38;5;124m encoded as NaN natively. For supervised learning, you might want\u001b[39m\u001b[38;5;124m\"\u001b[39m\n\u001b[1;32m   (...)\u001b[0m\n\u001b[0;32m    159\u001b[0m         \u001b[38;5;124m\"\u001b[39m\u001b[38;5;124m#estimators-that-handle-nan-values\u001b[39m\u001b[38;5;124m\"\u001b[39m\n\u001b[0;32m    160\u001b[0m     )\n\u001b[1;32m--> 161\u001b[0m \u001b[38;5;28;01mraise\u001b[39;00m \u001b[38;5;167;01mValueError\u001b[39;00m(msg_err)\n",
      "\u001b[1;31mValueError\u001b[0m: Input X contains NaN.\nLinearRegression does not accept missing values encoded as NaN natively. For supervised learning, you might want to consider sklearn.ensemble.HistGradientBoostingClassifier and Regressor which accept missing values encoded as NaNs natively. Alternatively, it is possible to preprocess the data, for instance by using an imputer transformer in a pipeline or drop samples with missing values. See https://scikit-learn.org/stable/modules/impute.html You can find a list of all estimators that handle NaN values at the following page: https://scikit-learn.org/stable/modules/impute.html#estimators-that-handle-nan-values"
     ]
    }
   ],
   "source": [
    "from sklearn.linear_model import LinearRegression\n",
    "\n",
    "# Assuming x and y are your data points\n",
    "#x = [1, 2, 3, 4, 5]\n",
    "#y = [2, 4, 5, 4, 5]\n",
    "\n",
    "x= df['RSI_14'].to_list()\n",
    "y = df['index'].to_list()\n",
    "\n",
    "# Create a linear regression model\n",
    "model = LinearRegression()\n",
    "\n",
    "# Fit the model\n",
    "model.fit([[i] for i in x], y)\n",
    "\n",
    "# Get the slope\n",
    "slope = model.coef_[0]\n",
    "print(slope)\n"
   ]
  },
  {
   "cell_type": "code",
   "execution_count": 43,
   "id": "41c6b193",
   "metadata": {},
   "outputs": [
    {
     "data": {
      "text/html": [
       "<div>\n",
       "<style scoped>\n",
       "    .dataframe tbody tr th:only-of-type {\n",
       "        vertical-align: middle;\n",
       "    }\n",
       "\n",
       "    .dataframe tbody tr th {\n",
       "        vertical-align: top;\n",
       "    }\n",
       "\n",
       "    .dataframe thead th {\n",
       "        text-align: right;\n",
       "    }\n",
       "</style>\n",
       "<table border=\"1\" class=\"dataframe\">\n",
       "  <thead>\n",
       "    <tr style=\"text-align: right;\">\n",
       "      <th></th>\n",
       "      <th>index</th>\n",
       "      <th>RSI_14</th>\n",
       "    </tr>\n",
       "  </thead>\n",
       "  <tbody>\n",
       "    <tr>\n",
       "      <th>0</th>\n",
       "      <td>59</td>\n",
       "      <td>NaN</td>\n",
       "    </tr>\n",
       "    <tr>\n",
       "      <th>1</th>\n",
       "      <td>119</td>\n",
       "      <td>NaN</td>\n",
       "    </tr>\n",
       "    <tr>\n",
       "      <th>2</th>\n",
       "      <td>179</td>\n",
       "      <td>NaN</td>\n",
       "    </tr>\n",
       "    <tr>\n",
       "      <th>3</th>\n",
       "      <td>239</td>\n",
       "      <td>NaN</td>\n",
       "    </tr>\n",
       "    <tr>\n",
       "      <th>4</th>\n",
       "      <td>299</td>\n",
       "      <td>NaN</td>\n",
       "    </tr>\n",
       "    <tr>\n",
       "      <th>5</th>\n",
       "      <td>359</td>\n",
       "      <td>NaN</td>\n",
       "    </tr>\n",
       "    <tr>\n",
       "      <th>6</th>\n",
       "      <td>419</td>\n",
       "      <td>NaN</td>\n",
       "    </tr>\n",
       "    <tr>\n",
       "      <th>7</th>\n",
       "      <td>479</td>\n",
       "      <td>NaN</td>\n",
       "    </tr>\n",
       "    <tr>\n",
       "      <th>8</th>\n",
       "      <td>539</td>\n",
       "      <td>NaN</td>\n",
       "    </tr>\n",
       "    <tr>\n",
       "      <th>9</th>\n",
       "      <td>599</td>\n",
       "      <td>NaN</td>\n",
       "    </tr>\n",
       "    <tr>\n",
       "      <th>10</th>\n",
       "      <td>659</td>\n",
       "      <td>NaN</td>\n",
       "    </tr>\n",
       "    <tr>\n",
       "      <th>11</th>\n",
       "      <td>719</td>\n",
       "      <td>NaN</td>\n",
       "    </tr>\n",
       "    <tr>\n",
       "      <th>12</th>\n",
       "      <td>779</td>\n",
       "      <td>NaN</td>\n",
       "    </tr>\n",
       "    <tr>\n",
       "      <th>13</th>\n",
       "      <td>839</td>\n",
       "      <td>NaN</td>\n",
       "    </tr>\n",
       "    <tr>\n",
       "      <th>14</th>\n",
       "      <td>899</td>\n",
       "      <td>63.532979</td>\n",
       "    </tr>\n",
       "    <tr>\n",
       "      <th>15</th>\n",
       "      <td>959</td>\n",
       "      <td>55.520139</td>\n",
       "    </tr>\n",
       "    <tr>\n",
       "      <th>16</th>\n",
       "      <td>1019</td>\n",
       "      <td>57.037318</td>\n",
       "    </tr>\n",
       "    <tr>\n",
       "      <th>17</th>\n",
       "      <td>1079</td>\n",
       "      <td>48.187018</td>\n",
       "    </tr>\n",
       "    <tr>\n",
       "      <th>18</th>\n",
       "      <td>1139</td>\n",
       "      <td>46.628662</td>\n",
       "    </tr>\n",
       "    <tr>\n",
       "      <th>19</th>\n",
       "      <td>1199</td>\n",
       "      <td>49.342902</td>\n",
       "    </tr>\n",
       "  </tbody>\n",
       "</table>\n",
       "</div>"
      ],
      "text/plain": [
       "    index     RSI_14\n",
       "0      59        NaN\n",
       "1     119        NaN\n",
       "2     179        NaN\n",
       "3     239        NaN\n",
       "4     299        NaN\n",
       "5     359        NaN\n",
       "6     419        NaN\n",
       "7     479        NaN\n",
       "8     539        NaN\n",
       "9     599        NaN\n",
       "10    659        NaN\n",
       "11    719        NaN\n",
       "12    779        NaN\n",
       "13    839        NaN\n",
       "14    899  63.532979\n",
       "15    959  55.520139\n",
       "16   1019  57.037318\n",
       "17   1079  48.187018\n",
       "18   1139  46.628662\n",
       "19   1199  49.342902"
      ]
     },
     "execution_count": 43,
     "metadata": {},
     "output_type": "execute_result"
    }
   ],
   "source": [
    "df.head(20)"
   ]
  },
  {
   "cell_type": "code",
   "execution_count": 46,
   "id": "998f8fad",
   "metadata": {},
   "outputs": [],
   "source": [
    "df = df.dropna()"
   ]
  },
  {
   "cell_type": "code",
   "execution_count": 53,
   "id": "3c8b6aa1",
   "metadata": {},
   "outputs": [
    {
     "name": "stdout",
     "output_type": "stream",
     "text": [
      "39.54709476780078\n"
     ]
    }
   ],
   "source": [
    "from sklearn.linear_model import LinearRegression\n",
    "\n",
    "# Assuming x and y are your data points\n",
    "#x = [1, 2, 3, 4, 5]\n",
    "#y = [2, 4, 5, 4, 5]\n",
    "\n",
    "x= df['RSI_14'].iloc[1:3].to_list()\n",
    "y = df['index'].iloc[1:3].to_list()\n",
    "\n",
    "# Create a linear regression model\n",
    "model = LinearRegression()\n",
    "\n",
    "# Fit the model\n",
    "model.fit([[i] for i in x], y)\n",
    "\n",
    "# Get the slope\n",
    "slope = model.coef_[0]\n",
    "print(slope)"
   ]
  },
  {
   "cell_type": "code",
   "execution_count": 49,
   "id": "f3adc1c9",
   "metadata": {},
   "outputs": [
    {
     "data": {
      "text/plain": [
       "index     899.000000\n",
       "RSI_14     63.532979\n",
       "Name: 14, dtype: float64"
      ]
     },
     "execution_count": 49,
     "metadata": {},
     "output_type": "execute_result"
    }
   ],
   "source": [
    "df.iloc[0]"
   ]
  },
  {
   "cell_type": "code",
   "execution_count": 42,
   "id": "5055cf63",
   "metadata": {},
   "outputs": [],
   "source": [
    "df = pd.read_csv('NQU2 Index-1min.csv')"
   ]
  },
  {
   "cell_type": "code",
   "execution_count": 43,
   "id": "4c62368e",
   "metadata": {},
   "outputs": [],
   "source": [
    "import bacaci.indicators as ind"
   ]
  },
  {
   "cell_type": "code",
   "execution_count": 44,
   "id": "d91b173f",
   "metadata": {},
   "outputs": [],
   "source": [
    "df_ha = ind.HeikinAshi(df)"
   ]
  },
  {
   "cell_type": "code",
   "execution_count": 45,
   "id": "40f1f647",
   "metadata": {},
   "outputs": [
    {
     "data": {
      "text/html": [
       "<div>\n",
       "<style scoped>\n",
       "    .dataframe tbody tr th:only-of-type {\n",
       "        vertical-align: middle;\n",
       "    }\n",
       "\n",
       "    .dataframe tbody tr th {\n",
       "        vertical-align: top;\n",
       "    }\n",
       "\n",
       "    .dataframe thead th {\n",
       "        text-align: right;\n",
       "    }\n",
       "</style>\n",
       "<table border=\"1\" class=\"dataframe\">\n",
       "  <thead>\n",
       "    <tr style=\"text-align: right;\">\n",
       "      <th></th>\n",
       "      <th>date</th>\n",
       "      <th>open</th>\n",
       "      <th>high</th>\n",
       "      <th>low</th>\n",
       "      <th>close</th>\n",
       "      <th>volume</th>\n",
       "    </tr>\n",
       "  </thead>\n",
       "  <tbody>\n",
       "    <tr>\n",
       "      <th>1</th>\n",
       "      <td>2022-06-27 22:01:00</td>\n",
       "      <td>12070.625</td>\n",
       "      <td>12070.625</td>\n",
       "      <td>12062.75</td>\n",
       "      <td>12065.3125</td>\n",
       "      <td>73</td>\n",
       "    </tr>\n",
       "    <tr>\n",
       "      <th>2</th>\n",
       "      <td>2022-06-27 22:02:00</td>\n",
       "      <td>12064.250</td>\n",
       "      <td>12064.250</td>\n",
       "      <td>12058.50</td>\n",
       "      <td>12062.2500</td>\n",
       "      <td>159</td>\n",
       "    </tr>\n",
       "    <tr>\n",
       "      <th>3</th>\n",
       "      <td>2022-06-27 22:03:00</td>\n",
       "      <td>12063.250</td>\n",
       "      <td>12063.250</td>\n",
       "      <td>12060.75</td>\n",
       "      <td>12061.5625</td>\n",
       "      <td>46</td>\n",
       "    </tr>\n",
       "    <tr>\n",
       "      <th>4</th>\n",
       "      <td>2022-06-27 22:04:00</td>\n",
       "      <td>12061.500</td>\n",
       "      <td>12062.500</td>\n",
       "      <td>12060.75</td>\n",
       "      <td>12061.6875</td>\n",
       "      <td>27</td>\n",
       "    </tr>\n",
       "    <tr>\n",
       "      <th>5</th>\n",
       "      <td>2022-06-27 22:05:00</td>\n",
       "      <td>12061.750</td>\n",
       "      <td>12062.250</td>\n",
       "      <td>12060.00</td>\n",
       "      <td>12061.1875</td>\n",
       "      <td>31</td>\n",
       "    </tr>\n",
       "    <tr>\n",
       "      <th>...</th>\n",
       "      <td>...</td>\n",
       "      <td>...</td>\n",
       "      <td>...</td>\n",
       "      <td>...</td>\n",
       "      <td>...</td>\n",
       "      <td>...</td>\n",
       "    </tr>\n",
       "    <tr>\n",
       "      <th>79657</th>\n",
       "      <td>2022-09-15 23:54:00</td>\n",
       "      <td>11843.250</td>\n",
       "      <td>11845.000</td>\n",
       "      <td>11843.25</td>\n",
       "      <td>11845.0000</td>\n",
       "      <td>6</td>\n",
       "    </tr>\n",
       "    <tr>\n",
       "      <th>79658</th>\n",
       "      <td>2022-09-15 23:56:00</td>\n",
       "      <td>11845.000</td>\n",
       "      <td>11845.000</td>\n",
       "      <td>11845.00</td>\n",
       "      <td>11845.0000</td>\n",
       "      <td>2</td>\n",
       "    </tr>\n",
       "    <tr>\n",
       "      <th>79659</th>\n",
       "      <td>2022-09-15 23:57:00</td>\n",
       "      <td>11845.000</td>\n",
       "      <td>11845.000</td>\n",
       "      <td>11842.50</td>\n",
       "      <td>11843.6875</td>\n",
       "      <td>14</td>\n",
       "    </tr>\n",
       "    <tr>\n",
       "      <th>79660</th>\n",
       "      <td>2022-09-15 23:58:00</td>\n",
       "      <td>11843.750</td>\n",
       "      <td>11844.000</td>\n",
       "      <td>11843.75</td>\n",
       "      <td>11844.0000</td>\n",
       "      <td>5</td>\n",
       "    </tr>\n",
       "    <tr>\n",
       "      <th>79661</th>\n",
       "      <td>2022-09-15 23:59:00</td>\n",
       "      <td>11844.000</td>\n",
       "      <td>11845.750</td>\n",
       "      <td>11844.00</td>\n",
       "      <td>11844.6250</td>\n",
       "      <td>11</td>\n",
       "    </tr>\n",
       "  </tbody>\n",
       "</table>\n",
       "<p>79661 rows × 6 columns</p>\n",
       "</div>"
      ],
      "text/plain": [
       "                      date       open       high       low       close  volume\n",
       "1      2022-06-27 22:01:00  12070.625  12070.625  12062.75  12065.3125      73\n",
       "2      2022-06-27 22:02:00  12064.250  12064.250  12058.50  12062.2500     159\n",
       "3      2022-06-27 22:03:00  12063.250  12063.250  12060.75  12061.5625      46\n",
       "4      2022-06-27 22:04:00  12061.500  12062.500  12060.75  12061.6875      27\n",
       "5      2022-06-27 22:05:00  12061.750  12062.250  12060.00  12061.1875      31\n",
       "...                    ...        ...        ...       ...         ...     ...\n",
       "79657  2022-09-15 23:54:00  11843.250  11845.000  11843.25  11845.0000       6\n",
       "79658  2022-09-15 23:56:00  11845.000  11845.000  11845.00  11845.0000       2\n",
       "79659  2022-09-15 23:57:00  11845.000  11845.000  11842.50  11843.6875      14\n",
       "79660  2022-09-15 23:58:00  11843.750  11844.000  11843.75  11844.0000       5\n",
       "79661  2022-09-15 23:59:00  11844.000  11845.750  11844.00  11844.6250      11\n",
       "\n",
       "[79661 rows x 6 columns]"
      ]
     },
     "execution_count": 45,
     "metadata": {},
     "output_type": "execute_result"
    }
   ],
   "source": [
    "df_ha"
   ]
  },
  {
   "cell_type": "code",
   "execution_count": 65,
   "id": "267c5e86",
   "metadata": {},
   "outputs": [
    {
     "data": {
      "text/plain": [
       "1"
      ]
     },
     "execution_count": 65,
     "metadata": {},
     "output_type": "execute_result"
    }
   ],
   "source": [
    "min([1,4,5,6])"
   ]
  },
  {
   "cell_type": "code",
   "execution_count": 66,
   "id": "f3af72b6",
   "metadata": {},
   "outputs": [],
   "source": [
    "keys=[1,4,5,6]"
   ]
  },
  {
   "cell_type": "code",
   "execution_count": 67,
   "id": "29900016",
   "metadata": {},
   "outputs": [
    {
     "data": {
      "text/plain": [
       "1"
      ]
     },
     "execution_count": 67,
     "metadata": {},
     "output_type": "execute_result"
    }
   ],
   "source": [
    "min(k for k in keys)"
   ]
  },
  {
   "cell_type": "code",
   "execution_count": 1,
   "id": "f0da2564",
   "metadata": {},
   "outputs": [],
   "source": [
    "class TrailingStop:\n",
    "\n",
    "    def __init__(self, trailing_percent, initial_stop):\n",
    "        self.trailing_percent = trailing_percent  # Trailing stop percentage\n",
    "        self.initial_stop = initial_stop  # Initial stop-loss price\n",
    "        self.current_stop = initial_stop  # Current stop-loss price\n",
    "\n",
    "    def update_stop(self, current_price):\n",
    "        # Calculate the new stop-loss price based on the trailing percent\n",
    "        trailing_distance = (current_price - self.initial_stop) * (self.trailing_percent / 100)\n",
    "        new_stop = current_price - trailing_distance\n",
    "\n",
    "        # Update the stop-loss if the new price is higher (for long positions)\n",
    "        if new_stop > self.current_stop:\n",
    "            self.current_stop = new_stop\n",
    "\n",
    "        return self.current_stop\n"
   ]
  },
  {
   "cell_type": "code",
   "execution_count": 20,
   "id": "0ce79e29",
   "metadata": {},
   "outputs": [],
   "source": [
    "import pandas as pd\n",
    "\n",
    "# Replace 'your_excel_file.xlsx' with the path to your Excel file\n",
    "excel_file = 'output/data_Binance_ETHUSDT.xlsx'\n",
    "\n",
    "# Replace 'sheet_name' with the name of the sheet you want to read\n",
    "sheet_name = 'orders'\n",
    "\n",
    "# Read the Excel file into a DataFrame\n",
    "df = pd.read_excel(excel_file, sheet_name=sheet_name)\n",
    "\n",
    "rapor = pd.DataFrame(\n",
    "    [\n",
    "        [\n",
    "            (df['Profit'] > 0).sum(),\n",
    "            (df['Profit'] < 0).sum(),\n",
    "            df['Profit'].max(),\n",
    "            df['Profit'].min(),\n",
    "            df['Profit'][ df['Profit'] > 0 ].mean(),\n",
    "            df['Profit'][ df['Profit'] < 0 ].mean()\n",
    "        ]\n",
    "    ],\n",
    "    columns=['+count', '-count' , 'max', 'min', '+mean', '-mean']\n",
    ")"
   ]
  },
  {
   "cell_type": "code",
   "execution_count": 21,
   "id": "2317078a",
   "metadata": {},
   "outputs": [
    {
     "data": {
      "text/html": [
       "<div>\n",
       "<style scoped>\n",
       "    .dataframe tbody tr th:only-of-type {\n",
       "        vertical-align: middle;\n",
       "    }\n",
       "\n",
       "    .dataframe tbody tr th {\n",
       "        vertical-align: top;\n",
       "    }\n",
       "\n",
       "    .dataframe thead th {\n",
       "        text-align: right;\n",
       "    }\n",
       "</style>\n",
       "<table border=\"1\" class=\"dataframe\">\n",
       "  <thead>\n",
       "    <tr style=\"text-align: right;\">\n",
       "      <th></th>\n",
       "      <th>+count</th>\n",
       "      <th>-count</th>\n",
       "      <th>max</th>\n",
       "      <th>min</th>\n",
       "      <th>+mean</th>\n",
       "      <th>-mean</th>\n",
       "    </tr>\n",
       "  </thead>\n",
       "  <tbody>\n",
       "    <tr>\n",
       "      <th>0</th>\n",
       "      <td>158</td>\n",
       "      <td>214</td>\n",
       "      <td>1178.0</td>\n",
       "      <td>-305.0</td>\n",
       "      <td>46.55443</td>\n",
       "      <td>-67.908411</td>\n",
       "    </tr>\n",
       "  </tbody>\n",
       "</table>\n",
       "</div>"
      ],
      "text/plain": [
       "   +count  -count     max    min     +mean      -mean\n",
       "0     158     214  1178.0 -305.0  46.55443 -67.908411"
      ]
     },
     "execution_count": 21,
     "metadata": {},
     "output_type": "execute_result"
    }
   ],
   "source": [
    "rapor"
   ]
  },
  {
   "cell_type": "code",
   "execution_count": 33,
   "id": "d282db51",
   "metadata": {},
   "outputs": [
    {
     "name": "stdout",
     "output_type": "stream",
     "text": [
      "[[0.  0. ]\n",
      " [0.5 0.5]\n",
      " [1.  1. ]]\n"
     ]
    }
   ],
   "source": [
    "from sklearn.preprocessing import MinMaxScaler\n",
    "import numpy as np\n",
    "\n",
    "# Sample data\n",
    "data = np.array([[1.0, 2.0], [3.0, 4.0], [5.0, 6.0]])\n",
    "\n",
    "# Create a MinMaxScaler\n",
    "scaler = MinMaxScaler()\n",
    "\n",
    "# Fit the scaler and transform the data\n",
    "scaled_data = scaler.fit_transform(data)\n",
    "\n",
    "print(scaled_data)\n"
   ]
  },
  {
   "cell_type": "code",
   "execution_count": 52,
   "id": "de753f65",
   "metadata": {},
   "outputs": [],
   "source": [
    "data = pd.read_csv('NQZ2 Index-5min.csv')\n",
    "data['timestamp'] = [int(datetime.strptime(t, '%Y-%m-%d %H:%M:%S').timestamp()) for t in data['date']]"
   ]
  },
  {
   "cell_type": "code",
   "execution_count": 53,
   "id": "d9546e81",
   "metadata": {},
   "outputs": [],
   "source": [
    "data.to_excel(\"NQZ2 Index-5min-t.xlsx\", index=False)"
   ]
  },
  {
   "cell_type": "code",
   "execution_count": 7,
   "id": "814f865c",
   "metadata": {},
   "outputs": [],
   "source": [
    "from datetime import datetime"
   ]
  },
  {
   "cell_type": "code",
   "execution_count": 15,
   "id": "e8be6d3e",
   "metadata": {},
   "outputs": [],
   "source": [
    "day1 = int(datetime.strptime(\"2023-08-17 00:00:00\", '%Y-%m-%d %H:%M:%S').timestamp())\n",
    "day2 = int(datetime.strptime(\"2023-08-19 00:00:00\", '%Y-%m-%d %H:%M:%S').timestamp())"
   ]
  },
  {
   "cell_type": "code",
   "execution_count": 16,
   "id": "f37d624f",
   "metadata": {},
   "outputs": [
    {
     "data": {
      "text/plain": [
       "(1692219600, 1692392400)"
      ]
     },
     "execution_count": 16,
     "metadata": {},
     "output_type": "execute_result"
    }
   ],
   "source": [
    "day1, day2"
   ]
  },
  {
   "cell_type": "code",
   "execution_count": 1,
   "id": "34ce3fbb",
   "metadata": {},
   "outputs": [
    {
     "name": "stdout",
     "output_type": "stream",
     "text": [
      "Variation Rate: 20.00%\n"
     ]
    }
   ],
   "source": [
    "# Define the old and new values\n",
    "old_value = 100\n",
    "new_value = 120\n",
    "\n",
    "# Calculate the percentage change\n",
    "variation_rate = ((new_value - old_value) / old_value) * 100\n",
    "\n",
    "# Print the variation rate\n",
    "print(f\"Variation Rate: {variation_rate:.2f}%\")\n"
   ]
  },
  {
   "cell_type": "code",
   "execution_count": null,
   "id": "a384a625",
   "metadata": {},
   "outputs": [],
   "source": []
  },
  {
   "cell_type": "code",
   "execution_count": null,
   "id": "8f5c5c69",
   "metadata": {},
   "outputs": [],
   "source": []
  }
 ],
 "metadata": {
  "kernelspec": {
   "display_name": "Python 3 (ipykernel)",
   "language": "python",
   "name": "python3"
  },
  "language_info": {
   "codemirror_mode": {
    "name": "ipython",
    "version": 3
   },
   "file_extension": ".py",
   "mimetype": "text/x-python",
   "name": "python",
   "nbconvert_exporter": "python",
   "pygments_lexer": "ipython3",
   "version": "3.11.1"
  }
 },
 "nbformat": 4,
 "nbformat_minor": 5
}
